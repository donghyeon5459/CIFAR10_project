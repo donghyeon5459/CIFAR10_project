{
 "cells": [
  {
   "cell_type": "code",
   "execution_count": 315,
   "metadata": {},
   "outputs": [],
   "source": [
    "import numpy as np\n",
    "import pandas as pd\n",
    "from keras.models import Model\n",
    "import tensorflow as tf\n",
    "from sklearn.model_selection import train_test_split\n",
    "from keras.layers import Dense, Conv2D, BatchNormalization, Activation\n",
    "from __future__ import print_function\n",
    "from keras.datasets import cifar10\n",
    "from keras.preprocessing.image import ImageDataGenerator\n",
    "from keras.layers import AveragePooling2D, Input, Flatten\n",
    "from keras.callbacks import ReduceLROnPlateau, CSVLogger, EarlyStopping\n",
    "from keras.regularizers import l2\n",
    "from tensorflow.keras.optimizers import Adam\n",
    "from keras.callbacks import LearningRateScheduler\n",
    "from keras import Sequential\n",
    "import matplotlib.pyplot as plt\n",
    "import matplotlib.image as mpimg\n",
    "\n",
    "from tensorflow.keras.applications import ResNet50, VGG19\n",
    "from tensorflow.keras.optimizers import SGD,Adam\n",
    "from keras.layers import Flatten,Dense,BatchNormalization,Activation,Dropout\n",
    "from tensorflow.keras.utils import to_categorical\n",
    "from sklearn.metrics import confusion_matrix"
   ]
  },
  {
   "cell_type": "code",
   "execution_count": 316,
   "metadata": {},
   "outputs": [],
   "source": [
    "(x_train,y_train),(x_test,y_test)=cifar10.load_data()\n",
    "x_train,x_val,y_train,y_val=train_test_split(x_train,y_train,test_size=.3)"
   ]
  },
  {
   "cell_type": "code",
   "execution_count": 317,
   "metadata": {},
   "outputs": [],
   "source": [
    "for gpu in tf.config.experimental.list_physical_devices(\"GPU\"):\n",
    "    tf.config.experimental.set_memory_growth(gpu, True)"
   ]
  },
  {
   "cell_type": "code",
   "execution_count": 318,
   "metadata": {},
   "outputs": [
    {
     "name": "stderr",
     "output_type": "stream",
     "text": [
      "2021-12-12 10:51:20.153348: I tensorflow/core/common_runtime/gpu/gpu_device.cc:1510] Created device /device:GPU:0 with 21733 MB memory:  -> device: 0, name: NVIDIA GeForce RTX 3090, pci bus id: 0000:5e:00.0, compute capability: 8.6\n"
     ]
    },
    {
     "data": {
      "text/plain": [
       "True"
      ]
     },
     "execution_count": 318,
     "metadata": {},
     "output_type": "execute_result"
    }
   ],
   "source": [
    "tf.test.is_gpu_available()"
   ]
  },
  {
   "cell_type": "code",
   "execution_count": 319,
   "metadata": {},
   "outputs": [
    {
     "name": "stdout",
     "output_type": "stream",
     "text": [
      "[name: \"/device:CPU:0\"\n",
      "device_type: \"CPU\"\n",
      "memory_limit: 268435456\n",
      "locality {\n",
      "}\n",
      "incarnation: 17787960349330599922\n",
      ", name: \"/device:GPU:0\"\n",
      "device_type: \"GPU\"\n",
      "memory_limit: 22789292032\n",
      "locality {\n",
      "  bus_id: 1\n",
      "  links {\n",
      "  }\n",
      "}\n",
      "incarnation: 16736432281719889979\n",
      "physical_device_desc: \"device: 0, name: NVIDIA GeForce RTX 3090, pci bus id: 0000:5e:00.0, compute capability: 8.6\"\n",
      "]\n"
     ]
    },
    {
     "name": "stderr",
     "output_type": "stream",
     "text": [
      "2021-12-12 10:51:20.199734: I tensorflow/core/common_runtime/gpu/gpu_device.cc:1510] Created device /device:GPU:0 with 21733 MB memory:  -> device: 0, name: NVIDIA GeForce RTX 3090, pci bus id: 0000:5e:00.0, compute capability: 8.6\n"
     ]
    }
   ],
   "source": [
    "from tensorflow.python.client import device_lib\n",
    "print(device_lib.list_local_devices())"
   ]
  },
  {
   "cell_type": "code",
   "execution_count": 320,
   "metadata": {},
   "outputs": [],
   "source": [
    "class_names = ['airplane', 'automobile', 'bird', 'cat', 'deer', 'dog', 'frog', 'horse', 'ship', 'truck']"
   ]
  },
  {
   "cell_type": "code",
   "execution_count": 321,
   "metadata": {},
   "outputs": [
    {
     "name": "stdout",
     "output_type": "stream",
     "text": [
      "((35000, 32, 32, 3), (35000, 1))\n",
      "((15000, 32, 32, 3), (15000, 1))\n",
      "((10000, 32, 32, 3), (10000, 1))\n"
     ]
    }
   ],
   "source": [
    "print((x_train.shape,y_train.shape))\n",
    "print((x_val.shape,y_val.shape))\n",
    "print((x_test.shape,y_test.shape))"
   ]
  },
  {
   "cell_type": "code",
   "execution_count": 322,
   "metadata": {},
   "outputs": [],
   "source": [
    "y_train=to_categorical(y_train)\n",
    "y_val=to_categorical(y_val)\n",
    "y_test=to_categorical(y_test)"
   ]
  },
  {
   "cell_type": "code",
   "execution_count": 323,
   "metadata": {},
   "outputs": [
    {
     "name": "stdout",
     "output_type": "stream",
     "text": [
      "((35000, 32, 32, 3), (35000, 10))\n",
      "((15000, 32, 32, 3), (15000, 10))\n",
      "((10000, 32, 32, 3), (10000, 10))\n"
     ]
    }
   ],
   "source": [
    "print((x_train.shape,y_train.shape))\n",
    "print((x_val.shape,y_val.shape))\n",
    "print((x_test.shape,y_test.shape))"
   ]
  },
  {
   "cell_type": "code",
   "execution_count": 324,
   "metadata": {},
   "outputs": [],
   "source": [
    "# Normalize data.\n",
    "x_train = x_train.astype('float32') / 255\n",
    "x_val = x_val.astype('float32') / 255\n",
    "x_test = x_test.astype('float32') / 255"
   ]
  },
  {
   "cell_type": "code",
   "execution_count": 325,
   "metadata": {},
   "outputs": [],
   "source": [
    "x_train_mean = np.mean(x_train, axis=0)\n",
    "x_train -= x_train_mean\n",
    "x_val -= x_train_mean\n",
    "x_test -= x_train_mean"
   ]
  },
  {
   "cell_type": "code",
   "execution_count": 326,
   "metadata": {},
   "outputs": [],
   "source": [
    "batch_size= 50\n",
    "epochs=100"
   ]
  },
  {
   "cell_type": "code",
   "execution_count": 327,
   "metadata": {},
   "outputs": [],
   "source": [
    "train_generator = ImageDataGenerator(\n",
    "                                    rotation_range=2, \n",
    "                                    horizontal_flip=True,\n",
    "                                    zoom_range=.1 )\n",
    "\n",
    "val_generator = ImageDataGenerator(\n",
    "                                    rotation_range=2, \n",
    "                                    horizontal_flip=True,\n",
    "                                    zoom_range=.1)\n",
    "\n",
    "test_generator = ImageDataGenerator(\n",
    "                                    rotation_range=2, \n",
    "                                    horizontal_flip= True,\n",
    "                                    zoom_range=.1) "
   ]
  },
  {
   "cell_type": "code",
   "execution_count": 328,
   "metadata": {},
   "outputs": [],
   "source": [
    "#Fit the augmentation method to the data\n",
    "train_generator.fit(x_train)\n",
    "val_generator.fit(x_val)\n",
    "test_generator.fit(x_test)"
   ]
  },
  {
   "cell_type": "code",
   "execution_count": 329,
   "metadata": {},
   "outputs": [],
   "source": [
    "#Learning Rate Annealer\n",
    "lrr= ReduceLROnPlateau(\n",
    "                       monitor='val_loss', #Metric to be measured\n",
    "                       factor=.01, #Factor by which learning rate will be reduced\n",
    "                       patience=3,  #No. of epochs after which if there is no improvement in the val_acc, the learning rate is reduced\n",
    "                       min_lr=1e-5) #The minimum learning rate "
   ]
  },
  {
   "cell_type": "code",
   "execution_count": 330,
   "metadata": {},
   "outputs": [],
   "source": [
    "#pretrained model : imagenet\n",
    "vgg_model = VGG19(include_top=False,weights='imagenet',input_shape=(32,32,3),classes=y_train.shape[1])"
   ]
  },
  {
   "cell_type": "code",
   "execution_count": 331,
   "metadata": {},
   "outputs": [
    {
     "name": "stdout",
     "output_type": "stream",
     "text": [
      "Model: \"vgg19\"\n",
      "_________________________________________________________________\n",
      "Layer (type)                 Output Shape              Param #   \n",
      "=================================================================\n",
      "input_14 (InputLayer)        [(None, 32, 32, 3)]       0         \n",
      "_________________________________________________________________\n",
      "block1_conv1 (Conv2D)        (None, 32, 32, 64)        1792      \n",
      "_________________________________________________________________\n",
      "block1_conv2 (Conv2D)        (None, 32, 32, 64)        36928     \n",
      "_________________________________________________________________\n",
      "block1_pool (MaxPooling2D)   (None, 16, 16, 64)        0         \n",
      "_________________________________________________________________\n",
      "block2_conv1 (Conv2D)        (None, 16, 16, 128)       73856     \n",
      "_________________________________________________________________\n",
      "block2_conv2 (Conv2D)        (None, 16, 16, 128)       147584    \n",
      "_________________________________________________________________\n",
      "block2_pool (MaxPooling2D)   (None, 8, 8, 128)         0         \n",
      "_________________________________________________________________\n",
      "block3_conv1 (Conv2D)        (None, 8, 8, 256)         295168    \n",
      "_________________________________________________________________\n",
      "block3_conv2 (Conv2D)        (None, 8, 8, 256)         590080    \n",
      "_________________________________________________________________\n",
      "block3_conv3 (Conv2D)        (None, 8, 8, 256)         590080    \n",
      "_________________________________________________________________\n",
      "block3_conv4 (Conv2D)        (None, 8, 8, 256)         590080    \n",
      "_________________________________________________________________\n",
      "block3_pool (MaxPooling2D)   (None, 4, 4, 256)         0         \n",
      "_________________________________________________________________\n",
      "block4_conv1 (Conv2D)        (None, 4, 4, 512)         1180160   \n",
      "_________________________________________________________________\n",
      "block4_conv2 (Conv2D)        (None, 4, 4, 512)         2359808   \n",
      "_________________________________________________________________\n",
      "block4_conv3 (Conv2D)        (None, 4, 4, 512)         2359808   \n",
      "_________________________________________________________________\n",
      "block4_conv4 (Conv2D)        (None, 4, 4, 512)         2359808   \n",
      "_________________________________________________________________\n",
      "block4_pool (MaxPooling2D)   (None, 2, 2, 512)         0         \n",
      "_________________________________________________________________\n",
      "block5_conv1 (Conv2D)        (None, 2, 2, 512)         2359808   \n",
      "_________________________________________________________________\n",
      "block5_conv2 (Conv2D)        (None, 2, 2, 512)         2359808   \n",
      "_________________________________________________________________\n",
      "block5_conv3 (Conv2D)        (None, 2, 2, 512)         2359808   \n",
      "_________________________________________________________________\n",
      "block5_conv4 (Conv2D)        (None, 2, 2, 512)         2359808   \n",
      "_________________________________________________________________\n",
      "block5_pool (MaxPooling2D)   (None, 1, 1, 512)         0         \n",
      "=================================================================\n",
      "Total params: 20,024,384\n",
      "Trainable params: 20,024,384\n",
      "Non-trainable params: 0\n",
      "_________________________________________________________________\n"
     ]
    }
   ],
   "source": [
    "vgg_model.summary()"
   ]
  },
  {
   "cell_type": "code",
   "execution_count": null,
   "metadata": {},
   "outputs": [],
   "source": []
  },
  {
   "cell_type": "code",
   "execution_count": 332,
   "metadata": {},
   "outputs": [],
   "source": [
    "# mymodel=Sequential()\n",
    "# #Add the Dense layers along with activation and batch normalization\n",
    "# mymodel.add(resnet_model)\n",
    "# mymodel.add(Flatten())\n",
    "\n",
    "\n",
    "# #Add the Dense layers along with activation and batch normalization\n",
    "# mymodel.add(Dense(4000,activation=('relu'),input_dim=512))\n",
    "# mymodel.add(Dense(2000,activation=('relu'))) \n",
    "# mymodel.add(Dropout(.4))\n",
    "# mymodel.add(Dense(1000,activation=('relu'))) \n",
    "# mymodel.add(Dropout(.3))#Adding a dropout layer that will randomly drop 30% of the weights\n",
    "# mymodel.add(Dense(500,activation=('relu')))\n",
    "# mymodel.add(Dropout(.2))\n",
    "# mymodel.add(Dense(10,activation=('softmax'))) #This is the classification layer\n",
    "#Add the Dense layers along with activation and batch normalization\n",
    "#Lets add the final layers to these base models where the actual classification is done in the dense layers\n",
    "\n",
    "mymodel= Sequential()\n",
    "mymodel.add(vgg_model) #Adds the base model (in this case vgg19 to model_1)\n",
    "mymodel.add(Flatten()) #Since the output before the flatten layer is a matrix we have to use this function to get a vector of the form nX1 to feed it into the fully connected layers\n",
    "\n",
    "mymodel.add(Dense(1024,activation=('relu'),input_dim=512))\n",
    "mymodel.add(Dense(512,activation=('relu'))) \n",
    "mymodel.add(Dense(256,activation=('relu'))) \n",
    "#model_1.add(Dropout(.3))#Adding a dropout layer that will randomly drop 30% of the weights\n",
    "mymodel.add(Dense(128,activation=('relu')))\n",
    "#model_1.add(Dropout(.2))\n",
    "mymodel.add(Dense(10,activation=('softmax'))) #This is the classification layer"
   ]
  },
  {
   "cell_type": "code",
   "execution_count": 333,
   "metadata": {},
   "outputs": [
    {
     "name": "stdout",
     "output_type": "stream",
     "text": [
      "Model: \"sequential_12\"\n",
      "_________________________________________________________________\n",
      "Layer (type)                 Output Shape              Param #   \n",
      "=================================================================\n",
      "vgg19 (Functional)           (None, 1, 1, 512)         20024384  \n",
      "_________________________________________________________________\n",
      "flatten_12 (Flatten)         (None, 512)               0         \n",
      "_________________________________________________________________\n",
      "dense_60 (Dense)             (None, 1024)              525312    \n",
      "_________________________________________________________________\n",
      "dense_61 (Dense)             (None, 512)               524800    \n",
      "_________________________________________________________________\n",
      "dense_62 (Dense)             (None, 256)               131328    \n",
      "_________________________________________________________________\n",
      "dense_63 (Dense)             (None, 128)               32896     \n",
      "_________________________________________________________________\n",
      "dense_64 (Dense)             (None, 10)                1290      \n",
      "=================================================================\n",
      "Total params: 21,240,010\n",
      "Trainable params: 21,240,010\n",
      "Non-trainable params: 0\n",
      "_________________________________________________________________\n"
     ]
    }
   ],
   "source": [
    "mymodel.summary()"
   ]
  },
  {
   "cell_type": "code",
   "execution_count": 334,
   "metadata": {},
   "outputs": [],
   "source": [
    "learn_rate=.001\n",
    "\n",
    "sgd=SGD(lr=learn_rate,momentum=.9,nesterov=False)\n",
    "adam=Adam(lr=learn_rate, beta_1=0.9, beta_2=0.999, epsilon=None, decay=0.0, amsgrad=False)"
   ]
  },
  {
   "cell_type": "code",
   "execution_count": 335,
   "metadata": {},
   "outputs": [],
   "source": [
    "mymodel.compile(optimizer=sgd,loss='categorical_crossentropy',metrics=['accuracy'])"
   ]
  },
  {
   "cell_type": "code",
   "execution_count": 336,
   "metadata": {},
   "outputs": [
    {
     "data": {
      "text/plain": [
       "700"
      ]
     },
     "execution_count": 336,
     "metadata": {},
     "output_type": "execute_result"
    }
   ],
   "source": [
    "x_train.shape[0]//batch_size\n"
   ]
  },
  {
   "cell_type": "code",
   "execution_count": 337,
   "metadata": {},
   "outputs": [
    {
     "name": "stdout",
     "output_type": "stream",
     "text": [
      "Epoch 1/100\n",
      "700/700 [==============================] - 22s 29ms/step - loss: 1.1677 - accuracy: 0.5890 - val_loss: 0.9275 - val_accuracy: 0.6714\n",
      "Epoch 2/100\n",
      "700/700 [==============================] - 21s 29ms/step - loss: 0.7346 - accuracy: 0.7462 - val_loss: 0.6298 - val_accuracy: 0.7840\n",
      "Epoch 3/100\n",
      "700/700 [==============================] - 21s 29ms/step - loss: 0.6195 - accuracy: 0.7873 - val_loss: 0.6092 - val_accuracy: 0.7920\n",
      "Epoch 4/100\n",
      "700/700 [==============================] - 21s 30ms/step - loss: 0.5348 - accuracy: 0.8136 - val_loss: 0.5930 - val_accuracy: 0.7948\n",
      "Epoch 5/100\n",
      "700/700 [==============================] - 20s 29ms/step - loss: 0.4813 - accuracy: 0.8329 - val_loss: 0.5325 - val_accuracy: 0.8161\n",
      "Epoch 6/100\n",
      "700/700 [==============================] - 21s 29ms/step - loss: 0.4336 - accuracy: 0.8485 - val_loss: 0.5227 - val_accuracy: 0.8226\n",
      "Epoch 7/100\n",
      "700/700 [==============================] - 21s 30ms/step - loss: 0.3890 - accuracy: 0.8637 - val_loss: 0.4877 - val_accuracy: 0.8340\n",
      "Epoch 8/100\n",
      "700/700 [==============================] - 21s 29ms/step - loss: 0.3501 - accuracy: 0.8787 - val_loss: 0.4779 - val_accuracy: 0.8410\n",
      "Epoch 9/100\n",
      "700/700 [==============================] - 20s 29ms/step - loss: 0.3202 - accuracy: 0.8893 - val_loss: 0.5144 - val_accuracy: 0.8255\n",
      "Epoch 10/100\n",
      "700/700 [==============================] - 21s 29ms/step - loss: 0.2947 - accuracy: 0.8964 - val_loss: 0.5314 - val_accuracy: 0.8256\n",
      "Epoch 11/100\n",
      "700/700 [==============================] - 20s 29ms/step - loss: 0.2603 - accuracy: 0.9090 - val_loss: 0.5397 - val_accuracy: 0.8258\n",
      "Epoch 12/100\n",
      "700/700 [==============================] - 20s 29ms/step - loss: 0.2242 - accuracy: 0.9237 - val_loss: 0.4534 - val_accuracy: 0.8533\n",
      "Epoch 13/100\n",
      "700/700 [==============================] - 20s 29ms/step - loss: 0.1703 - accuracy: 0.9435 - val_loss: 0.4464 - val_accuracy: 0.8564\n",
      "Epoch 14/100\n",
      "700/700 [==============================] - 20s 28ms/step - loss: 0.1611 - accuracy: 0.9462 - val_loss: 0.4566 - val_accuracy: 0.8550\n",
      "Epoch 15/100\n",
      "700/700 [==============================] - 21s 30ms/step - loss: 0.1513 - accuracy: 0.9507 - val_loss: 0.4408 - val_accuracy: 0.8584\n",
      "Epoch 16/100\n",
      "700/700 [==============================] - 20s 29ms/step - loss: 0.1470 - accuracy: 0.9509 - val_loss: 0.4399 - val_accuracy: 0.8586\n",
      "Epoch 17/100\n",
      "700/700 [==============================] - 20s 29ms/step - loss: 0.1443 - accuracy: 0.9520 - val_loss: 0.4484 - val_accuracy: 0.8599\n",
      "Epoch 18/100\n",
      "700/700 [==============================] - 21s 30ms/step - loss: 0.1414 - accuracy: 0.9536 - val_loss: 0.4384 - val_accuracy: 0.8606\n",
      "Epoch 19/100\n",
      "700/700 [==============================] - 21s 30ms/step - loss: 0.1391 - accuracy: 0.9542 - val_loss: 0.4459 - val_accuracy: 0.8620\n",
      "Epoch 20/100\n",
      "700/700 [==============================] - 21s 29ms/step - loss: 0.1375 - accuracy: 0.9540 - val_loss: 0.4482 - val_accuracy: 0.8620\n",
      "Epoch 21/100\n",
      "700/700 [==============================] - 20s 29ms/step - loss: 0.1352 - accuracy: 0.9558 - val_loss: 0.4546 - val_accuracy: 0.8579\n",
      "Epoch 22/100\n",
      "700/700 [==============================] - 21s 29ms/step - loss: 0.1325 - accuracy: 0.9560 - val_loss: 0.4510 - val_accuracy: 0.8598\n",
      "Epoch 23/100\n",
      "700/700 [==============================] - 21s 29ms/step - loss: 0.1320 - accuracy: 0.9563 - val_loss: 0.4575 - val_accuracy: 0.8616\n",
      "Epoch 24/100\n",
      "700/700 [==============================] - 21s 29ms/step - loss: 0.1304 - accuracy: 0.9567 - val_loss: 0.4518 - val_accuracy: 0.8620\n",
      "Epoch 25/100\n",
      "700/700 [==============================] - 21s 30ms/step - loss: 0.1295 - accuracy: 0.9571 - val_loss: 0.4565 - val_accuracy: 0.8594\n",
      "Epoch 26/100\n",
      "700/700 [==============================] - 21s 29ms/step - loss: 0.1304 - accuracy: 0.9563 - val_loss: 0.4496 - val_accuracy: 0.8591\n",
      "Epoch 27/100\n",
      "700/700 [==============================] - 20s 28ms/step - loss: 0.1278 - accuracy: 0.9584 - val_loss: 0.4504 - val_accuracy: 0.8622\n",
      "Epoch 28/100\n",
      "700/700 [==============================] - 21s 29ms/step - loss: 0.1263 - accuracy: 0.9579 - val_loss: 0.4560 - val_accuracy: 0.8638\n",
      "Epoch 29/100\n",
      "700/700 [==============================] - 21s 30ms/step - loss: 0.1235 - accuracy: 0.9594 - val_loss: 0.4574 - val_accuracy: 0.8622\n",
      "Epoch 30/100\n",
      "700/700 [==============================] - 21s 29ms/step - loss: 0.1221 - accuracy: 0.9599 - val_loss: 0.4567 - val_accuracy: 0.8618\n",
      "Epoch 31/100\n",
      "700/700 [==============================] - 21s 30ms/step - loss: 0.1218 - accuracy: 0.9605 - val_loss: 0.4548 - val_accuracy: 0.8618\n",
      "Epoch 32/100\n",
      "700/700 [==============================] - 21s 30ms/step - loss: 0.1198 - accuracy: 0.9609 - val_loss: 0.4651 - val_accuracy: 0.8616\n",
      "Epoch 33/100\n",
      "700/700 [==============================] - 20s 28ms/step - loss: 0.1207 - accuracy: 0.9591 - val_loss: 0.4657 - val_accuracy: 0.8601\n",
      "Epoch 34/100\n",
      "700/700 [==============================] - 21s 29ms/step - loss: 0.1201 - accuracy: 0.9611 - val_loss: 0.4667 - val_accuracy: 0.8616\n",
      "Epoch 35/100\n",
      "700/700 [==============================] - 20s 29ms/step - loss: 0.1182 - accuracy: 0.9614 - val_loss: 0.4660 - val_accuracy: 0.8623\n",
      "Epoch 36/100\n",
      "700/700 [==============================] - 20s 29ms/step - loss: 0.1186 - accuracy: 0.9600 - val_loss: 0.4631 - val_accuracy: 0.8613\n",
      "Epoch 37/100\n",
      "700/700 [==============================] - 20s 29ms/step - loss: 0.1153 - accuracy: 0.9625 - val_loss: 0.4647 - val_accuracy: 0.8627\n",
      "Epoch 38/100\n",
      "700/700 [==============================] - 20s 29ms/step - loss: 0.1148 - accuracy: 0.9629 - val_loss: 0.4687 - val_accuracy: 0.8618\n",
      "Epoch 39/100\n",
      "700/700 [==============================] - 21s 30ms/step - loss: 0.1141 - accuracy: 0.9616 - val_loss: 0.4589 - val_accuracy: 0.8633\n",
      "Epoch 40/100\n",
      "700/700 [==============================] - 20s 29ms/step - loss: 0.1138 - accuracy: 0.9622 - val_loss: 0.4696 - val_accuracy: 0.8637\n",
      "Epoch 41/100\n",
      "700/700 [==============================] - 21s 30ms/step - loss: 0.1139 - accuracy: 0.9629 - val_loss: 0.4654 - val_accuracy: 0.8642\n",
      "Epoch 42/100\n",
      "700/700 [==============================] - 19s 28ms/step - loss: 0.1123 - accuracy: 0.9624 - val_loss: 0.4630 - val_accuracy: 0.8610\n",
      "Epoch 43/100\n",
      "700/700 [==============================] - 21s 29ms/step - loss: 0.1103 - accuracy: 0.9627 - val_loss: 0.4734 - val_accuracy: 0.8617\n",
      "Epoch 44/100\n",
      "700/700 [==============================] - 21s 29ms/step - loss: 0.1110 - accuracy: 0.9640 - val_loss: 0.4594 - val_accuracy: 0.8632\n",
      "Epoch 45/100\n",
      "700/700 [==============================] - 21s 30ms/step - loss: 0.1098 - accuracy: 0.9645 - val_loss: 0.4668 - val_accuracy: 0.8642\n",
      "Epoch 46/100\n",
      "700/700 [==============================] - 20s 29ms/step - loss: 0.1114 - accuracy: 0.9632 - val_loss: 0.4740 - val_accuracy: 0.8619\n",
      "Epoch 47/100\n",
      "700/700 [==============================] - 20s 29ms/step - loss: 0.1093 - accuracy: 0.9636 - val_loss: 0.4708 - val_accuracy: 0.8613\n",
      "Epoch 48/100\n",
      "700/700 [==============================] - 20s 28ms/step - loss: 0.1091 - accuracy: 0.9639 - val_loss: 0.4705 - val_accuracy: 0.8630\n",
      "Epoch 49/100\n",
      "700/700 [==============================] - 20s 29ms/step - loss: 0.1076 - accuracy: 0.9647 - val_loss: 0.4755 - val_accuracy: 0.8617\n",
      "Epoch 50/100\n",
      "700/700 [==============================] - 20s 29ms/step - loss: 0.1071 - accuracy: 0.9650 - val_loss: 0.4746 - val_accuracy: 0.8630\n",
      "Epoch 51/100\n",
      "700/700 [==============================] - 20s 29ms/step - loss: 0.1050 - accuracy: 0.9656 - val_loss: 0.4746 - val_accuracy: 0.8633\n",
      "Epoch 52/100\n",
      "700/700 [==============================] - 21s 30ms/step - loss: 0.1047 - accuracy: 0.9658 - val_loss: 0.4739 - val_accuracy: 0.8662\n",
      "Epoch 53/100\n",
      "700/700 [==============================] - 20s 29ms/step - loss: 0.1054 - accuracy: 0.9657 - val_loss: 0.4815 - val_accuracy: 0.8624\n",
      "Epoch 54/100\n",
      "700/700 [==============================] - 20s 29ms/step - loss: 0.1058 - accuracy: 0.9657 - val_loss: 0.4780 - val_accuracy: 0.8607\n",
      "Epoch 55/100\n",
      "700/700 [==============================] - 21s 30ms/step - loss: 0.1038 - accuracy: 0.9661 - val_loss: 0.4776 - val_accuracy: 0.8617\n",
      "Epoch 56/100\n",
      "700/700 [==============================] - 20s 29ms/step - loss: 0.1033 - accuracy: 0.9663 - val_loss: 0.4812 - val_accuracy: 0.8618\n",
      "Epoch 57/100\n",
      "700/700 [==============================] - 20s 29ms/step - loss: 0.1016 - accuracy: 0.9659 - val_loss: 0.4810 - val_accuracy: 0.8631\n",
      "Epoch 58/100\n",
      "700/700 [==============================] - 20s 29ms/step - loss: 0.0984 - accuracy: 0.9675 - val_loss: 0.4869 - val_accuracy: 0.8614\n",
      "Epoch 59/100\n",
      "700/700 [==============================] - 20s 29ms/step - loss: 0.0999 - accuracy: 0.9675 - val_loss: 0.4856 - val_accuracy: 0.8626\n",
      "Epoch 60/100\n",
      "700/700 [==============================] - 20s 29ms/step - loss: 0.0994 - accuracy: 0.9672 - val_loss: 0.4857 - val_accuracy: 0.8616\n",
      "Epoch 61/100\n",
      "700/700 [==============================] - 20s 29ms/step - loss: 0.0987 - accuracy: 0.9685 - val_loss: 0.4745 - val_accuracy: 0.8637\n",
      "Epoch 62/100\n",
      "700/700 [==============================] - 20s 29ms/step - loss: 0.0986 - accuracy: 0.9683 - val_loss: 0.4842 - val_accuracy: 0.8644\n",
      "Epoch 63/100\n",
      "700/700 [==============================] - 20s 29ms/step - loss: 0.0960 - accuracy: 0.9688 - val_loss: 0.4902 - val_accuracy: 0.8602\n",
      "Epoch 64/100\n",
      "700/700 [==============================] - 21s 29ms/step - loss: 0.0952 - accuracy: 0.9690 - val_loss: 0.4933 - val_accuracy: 0.8616\n",
      "Epoch 65/100\n",
      "700/700 [==============================] - 21s 30ms/step - loss: 0.0951 - accuracy: 0.9685 - val_loss: 0.4840 - val_accuracy: 0.8618\n",
      "Epoch 66/100\n",
      "700/700 [==============================] - 20s 29ms/step - loss: 0.0958 - accuracy: 0.9680 - val_loss: 0.4857 - val_accuracy: 0.8626\n",
      "Epoch 67/100\n",
      "700/700 [==============================] - 20s 29ms/step - loss: 0.0957 - accuracy: 0.9686 - val_loss: 0.4891 - val_accuracy: 0.8648\n",
      "Epoch 68/100\n",
      "700/700 [==============================] - 21s 29ms/step - loss: 0.0948 - accuracy: 0.9694 - val_loss: 0.4903 - val_accuracy: 0.8638\n",
      "Epoch 69/100\n",
      "700/700 [==============================] - 20s 29ms/step - loss: 0.0932 - accuracy: 0.9699 - val_loss: 0.4899 - val_accuracy: 0.8624\n",
      "Epoch 70/100\n",
      "700/700 [==============================] - 21s 29ms/step - loss: 0.0947 - accuracy: 0.9694 - val_loss: 0.4952 - val_accuracy: 0.8600\n",
      "Epoch 71/100\n",
      "700/700 [==============================] - 21s 30ms/step - loss: 0.0929 - accuracy: 0.9706 - val_loss: 0.4918 - val_accuracy: 0.8623\n",
      "Epoch 72/100\n",
      "700/700 [==============================] - 20s 29ms/step - loss: 0.0937 - accuracy: 0.9689 - val_loss: 0.4951 - val_accuracy: 0.8626\n",
      "Epoch 73/100\n",
      "700/700 [==============================] - 21s 30ms/step - loss: 0.0936 - accuracy: 0.9693 - val_loss: 0.4945 - val_accuracy: 0.8611\n",
      "Epoch 74/100\n",
      "700/700 [==============================] - 21s 29ms/step - loss: 0.0897 - accuracy: 0.9709 - val_loss: 0.5008 - val_accuracy: 0.8606\n",
      "Epoch 75/100\n",
      "700/700 [==============================] - 20s 28ms/step - loss: 0.0923 - accuracy: 0.9709 - val_loss: 0.5048 - val_accuracy: 0.8609\n",
      "Epoch 76/100\n",
      "700/700 [==============================] - 20s 28ms/step - loss: 0.0886 - accuracy: 0.9719 - val_loss: 0.4943 - val_accuracy: 0.8636\n",
      "Epoch 77/100\n",
      "700/700 [==============================] - 20s 29ms/step - loss: 0.0895 - accuracy: 0.9710 - val_loss: 0.4970 - val_accuracy: 0.8614\n",
      "Epoch 78/100\n",
      "700/700 [==============================] - 20s 29ms/step - loss: 0.0894 - accuracy: 0.9715 - val_loss: 0.4997 - val_accuracy: 0.8639\n",
      "Epoch 79/100\n",
      "700/700 [==============================] - 21s 29ms/step - loss: 0.0889 - accuracy: 0.9711 - val_loss: 0.4972 - val_accuracy: 0.8610\n",
      "Epoch 80/100\n",
      "700/700 [==============================] - 20s 28ms/step - loss: 0.0869 - accuracy: 0.9717 - val_loss: 0.4981 - val_accuracy: 0.8631\n",
      "Epoch 81/100\n",
      "700/700 [==============================] - 21s 30ms/step - loss: 0.0879 - accuracy: 0.9712 - val_loss: 0.5051 - val_accuracy: 0.8627\n",
      "Epoch 82/100\n",
      "700/700 [==============================] - 21s 29ms/step - loss: 0.0854 - accuracy: 0.9724 - val_loss: 0.5126 - val_accuracy: 0.8599\n",
      "Epoch 83/100\n",
      "700/700 [==============================] - 21s 30ms/step - loss: 0.0858 - accuracy: 0.9725 - val_loss: 0.4956 - val_accuracy: 0.8631\n",
      "Epoch 84/100\n",
      "700/700 [==============================] - 20s 29ms/step - loss: 0.0856 - accuracy: 0.9725 - val_loss: 0.5006 - val_accuracy: 0.8646\n",
      "Epoch 85/100\n",
      "700/700 [==============================] - 20s 28ms/step - loss: 0.0859 - accuracy: 0.9727 - val_loss: 0.5109 - val_accuracy: 0.8617\n",
      "Epoch 86/100\n",
      "700/700 [==============================] - 20s 29ms/step - loss: 0.0843 - accuracy: 0.9735 - val_loss: 0.4955 - val_accuracy: 0.8671\n",
      "Epoch 87/100\n",
      "700/700 [==============================] - 20s 29ms/step - loss: 0.0832 - accuracy: 0.9745 - val_loss: 0.4953 - val_accuracy: 0.8668\n",
      "Epoch 88/100\n",
      "700/700 [==============================] - 21s 30ms/step - loss: 0.0853 - accuracy: 0.9721 - val_loss: 0.5118 - val_accuracy: 0.8600\n",
      "Epoch 89/100\n",
      "700/700 [==============================] - 20s 29ms/step - loss: 0.0837 - accuracy: 0.9730 - val_loss: 0.5142 - val_accuracy: 0.8614\n",
      "Epoch 90/100\n",
      "700/700 [==============================] - 20s 29ms/step - loss: 0.0810 - accuracy: 0.9743 - val_loss: 0.5231 - val_accuracy: 0.8593\n",
      "Epoch 91/100\n",
      "700/700 [==============================] - 21s 30ms/step - loss: 0.0809 - accuracy: 0.9744 - val_loss: 0.5103 - val_accuracy: 0.8626\n",
      "Epoch 92/100\n",
      "700/700 [==============================] - 21s 29ms/step - loss: 0.0816 - accuracy: 0.9737 - val_loss: 0.5140 - val_accuracy: 0.8634\n",
      "Epoch 93/100\n",
      "700/700 [==============================] - 20s 29ms/step - loss: 0.0804 - accuracy: 0.9742 - val_loss: 0.5110 - val_accuracy: 0.8639\n",
      "Epoch 94/100\n",
      "700/700 [==============================] - 20s 29ms/step - loss: 0.0809 - accuracy: 0.9745 - val_loss: 0.5175 - val_accuracy: 0.8630\n",
      "Epoch 95/100\n",
      "700/700 [==============================] - 21s 29ms/step - loss: 0.0804 - accuracy: 0.9742 - val_loss: 0.5113 - val_accuracy: 0.8653\n",
      "Epoch 96/100\n",
      "700/700 [==============================] - 20s 29ms/step - loss: 0.0797 - accuracy: 0.9746 - val_loss: 0.5185 - val_accuracy: 0.8646\n",
      "Epoch 97/100\n",
      "700/700 [==============================] - 19s 28ms/step - loss: 0.0784 - accuracy: 0.9749 - val_loss: 0.5133 - val_accuracy: 0.8643\n",
      "Epoch 98/100\n",
      "700/700 [==============================] - 20s 29ms/step - loss: 0.0777 - accuracy: 0.9751 - val_loss: 0.5160 - val_accuracy: 0.8634\n",
      "Epoch 99/100\n",
      "700/700 [==============================] - 21s 29ms/step - loss: 0.0773 - accuracy: 0.9759 - val_loss: 0.5227 - val_accuracy: 0.8621\n",
      "Epoch 100/100\n",
      "700/700 [==============================] - 21s 29ms/step - loss: 0.0788 - accuracy: 0.9757 - val_loss: 0.5334 - val_accuracy: 0.8578\n"
     ]
    }
   ],
   "source": [
    "with tf.device('/gpu:0'):\n",
    "    mymodel.fit(\n",
    "        train_generator.flow(x_train,y_train,batch_size=batch_size),\n",
    "                      epochs=epochs,\n",
    "                      steps_per_epoch=x_train.shape[0]//batch_size,\n",
    "                      validation_data=val_generator.flow(x_val,y_val,batch_size=batch_size),\n",
    "                      validation_steps=250,\n",
    "                      callbacks=[lrr],verbose=1)"
   ]
  },
  {
   "cell_type": "code",
   "execution_count": 338,
   "metadata": {},
   "outputs": [
    {
     "data": {
      "text/plain": [
       "[<matplotlib.lines.Line2D at 0x7fd9481be130>]"
      ]
     },
     "execution_count": 338,
     "metadata": {},
     "output_type": "execute_result"
    },
    {
     "data": {
      "image/png": "[encoded data removed]",
      "text/plain": [
       "<Figure size 432x288 with 2 Axes>"
      ]
     },
     "metadata": {
      "needs_background": "light"
     },
     "output_type": "display_data"
    }
   ],
   "source": [
    "f,ax=plt.subplots(2,1) #Creates 2 subplots under 1 column\n",
    "\n",
    "#Assign the first subplot to graph training loss and validation loss\n",
    "ax[0].plot(mymodel.history.history['loss'],color='b',label='Training Loss') \n",
    "ax[0].plot(mymodel.history.history['val_loss'],color='r',label='Validation Loss')\n",
    "\n",
    "#Next lets plot the training accuracy and validation accuracy\n",
    "ax[1].plot(mymodel.history.history['accuracy'],color='b',label='Training  Accuracy')\n",
    "ax[1].plot(mymodel.history.history['val_accuracy'],color='r',label='Validation Accuracy')"
   ]
  },
  {
   "cell_type": "code",
   "execution_count": 339,
   "metadata": {},
   "outputs": [],
   "source": [
    "y_pred=mymodel.predict(x_test).argmax(axis=1)\n",
    "y_true=np.argmax(y_test,axis=1)\n",
    "\n",
    "#Compute the confusion matrix\n",
    "confusion_mtx=confusion_matrix(y_true,y_pred)"
   ]
  },
  {
   "cell_type": "code",
   "execution_count": 340,
   "metadata": {},
   "outputs": [],
   "source": [
    "def plot_confusion_matrix(y_true, y_pred, classes,\n",
    "                          normalize=False,\n",
    "                          title=None,\n",
    "                          cmap=plt.cm.Blues):\n",
    "    \"\"\"\n",
    "    This function prints and plots the confusion matrix.\n",
    "    Normalization can be applied by setting `normalize=True`.\n",
    "    \"\"\"\n",
    "    if not title:\n",
    "        if normalize:\n",
    "            title = 'Normalized confusion matrix'\n",
    "        else:\n",
    "            title = 'Confusion matrix, without normalization'\n",
    "\n",
    "    # Compute confusion matrix\n",
    "    cm = confusion_matrix(y_true, y_pred)\n",
    "    if normalize:\n",
    "        cm = cm.astype('float') / cm.sum(axis=1)[:, np.newaxis]\n",
    "        print(\"Normalized confusion matrix\")\n",
    "    else:\n",
    "        print('Confusion matrix, without normalization')\n",
    "\n",
    "#     print(cm)\n",
    "\n",
    "    fig, ax = plt.subplots(figsize=(7,7))\n",
    "    im = ax.imshow(cm, interpolation='nearest', cmap=cmap)\n",
    "    ax.figure.colorbar(im, ax=ax)\n",
    "    # We want to show all ticks...\n",
    "    ax.set(xticks=np.arange(cm.shape[1]),\n",
    "           yticks=np.arange(cm.shape[0]),\n",
    "           # ... and label them with the respective list entries\n",
    "           xticklabels=classes, yticklabels=classes,\n",
    "           title=title,\n",
    "           ylabel='True label',\n",
    "           xlabel='Predicted label')\n",
    "\n",
    "    # Rotate the tick labels and set their alignment.\n",
    "    plt.setp(ax.get_xticklabels(), rotation=45, ha=\"right\",\n",
    "             rotation_mode=\"anchor\")\n",
    "    # Loop over data dimensions and create text annotations.\n",
    "    fmt = '.2f' if normalize else 'd'\n",
    "    thresh = cm.max() / 2.\n",
    "    for i in range(cm.shape[0]):\n",
    "        for j in range(cm.shape[1]):\n",
    "            ax.text(j, i, format(cm[i, j], fmt),\n",
    "                    ha=\"center\", va=\"center\",\n",
    "                    color=\"white\" if cm[i, j] > thresh else \"black\")\n",
    "    fig.tight_layout()\n",
    "    return ax\n",
    "\n",
    "\n",
    "np.set_printoptions(precision=2)\n"
   ]
  },
  {
   "cell_type": "code",
   "execution_count": 341,
   "metadata": {},
   "outputs": [
    {
     "name": "stdout",
     "output_type": "stream",
     "text": [
      "Confusion matrix, without normalization\n"
     ]
    },
    {
     "data": {
      "text/plain": [
       "<AxesSubplot:title={'center':'Confusion matrix, without normalization'}, xlabel='Predicted label', ylabel='True label'>"
      ]
     },
     "execution_count": 341,
     "metadata": {},
     "output_type": "execute_result"
    },
    {
     "data": {
      "image/png": "[encoded data removed]",
      "text/plain": [
       "<Figure size 504x504 with 2 Axes>"
      ]
     },
     "metadata": {
      "needs_background": "light"
     },
     "output_type": "display_data"
    }
   ],
   "source": [
    "plot_confusion_matrix(y_true, y_pred, classes=class_names,\n",
    "                      title='Confusion matrix, without normalization')"
   ]
  },
  {
   "cell_type": "code",
   "execution_count": 342,
   "metadata": {},
   "outputs": [
    {
     "name": "stdout",
     "output_type": "stream",
     "text": [
      "Normalized confusion matrix\n"
     ]
    },
    {
     "data": {
      "text/plain": [
       "<AxesSubplot:title={'center':'Normalized confusion matrix'}, xlabel='Predicted label', ylabel='True label'>"
      ]
     },
     "execution_count": 342,
     "metadata": {},
     "output_type": "execute_result"
    },
    {
     "data": {
      "image/png": "[encoded data removed]",
      "text/plain": [
       "<Figure size 504x504 with 2 Axes>"
      ]
     },
     "metadata": {
      "needs_background": "light"
     },
     "output_type": "display_data"
    }
   ],
   "source": [
    "plot_confusion_matrix(y_true, y_pred, classes=class_names, normalize=True,\n",
    "                      title='Normalized confusion matrix')"
   ]
  },
  {
   "cell_type": "code",
   "execution_count": 343,
   "metadata": {},
   "outputs": [
    {
     "name": "stdout",
     "output_type": "stream",
     "text": [
      "313/313 [==============================] - 2s 7ms/step - loss: 0.5247 - accuracy: 0.8657\n",
      "Test loss: 0.5246634483337402\n",
      "Test accuracy: 0.8657000064849854\n"
     ]
    }
   ],
   "source": [
    "scores = mymodel.evaluate(x_test,y_test,verbose=1)\n",
    "print('Test loss:', scores[0])\n",
    "print('Test accuracy:', scores[1])"
   ]
  },
  {
   "cell_type": "code",
   "execution_count": null,
   "metadata": {},
   "outputs": [],
   "source": []
  },
  {
   "cell_type": "code",
   "execution_count": null,
   "metadata": {},
   "outputs": [],
   "source": []
  },
  {
   "cell_type": "code",
   "execution_count": null,
   "metadata": {},
   "outputs": [],
   "source": []
  },
  {
   "cell_type": "code",
   "execution_count": null,
   "metadata": {},
   "outputs": [],
   "source": []
  }
 ],
 "metadata": {
  "interpreter": {
   "hash": "31f2aee4e71d21fbe5cf8b01ff0e069b9275f58929596ceb00d14d90e3e16cd6"
  },
  "kernelspec": {
   "display_name": "Python 3.8.10 64-bit",
   "language": "python",
   "name": "python3"
  },
  "language_info": {
   "codemirror_mode": {
    "name": "ipython",
    "version": 3
   },
   "file_extension": ".py",
   "mimetype": "text/x-python",
   "name": "python",
   "nbconvert_exporter": "python",
   "pygments_lexer": "ipython3",
   "version": "3.8.10"
  },
  "orig_nbformat": 4
 },
 "nbformat": 4,
 "nbformat_minor": 2
}
